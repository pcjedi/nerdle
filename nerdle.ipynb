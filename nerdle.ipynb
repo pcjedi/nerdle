{
 "cells": [
  {
   "cell_type": "code",
   "execution_count": null,
   "metadata": {},
   "outputs": [],
   "source": [
    "def check(nerd):\n",
    "    left, right = nerd.split(\"=\")\n",
    "    try:\n",
    "        return compute(left)==compute(right)\n",
    "    except ZeroDivisionError:\n",
    "        return False\n",
    "\n",
    "def compute(side):\n",
    "    if \"+\" in side or \"-\" in side:\n",
    "        ix = max(side.rfind(\"+\"), side.rfind(\"-\"))\n",
    "        if side[ix]==\"+\":\n",
    "            return compute(side[:ix]) + compute(side[ix+1:])\n",
    "        elif side[ix]==\"-\":\n",
    "            return compute(side[:ix]) - compute(side[ix+1:])\n",
    "        assert False\n",
    "    elif \"*\" in side or \"/\" in side:\n",
    "        ix = max(side.rfind(\"*\"), side.rfind(\"/\"))\n",
    "        if side[ix]==\"*\":\n",
    "            return compute(side[:ix]) * compute(side[ix+1:])\n",
    "        elif side[ix]==\"/\":\n",
    "            return compute(side[:ix]) / compute(side[ix+1:])\n",
    "        assert False\n",
    "    return float(side)"
   ]
  },
  {
   "cell_type": "code",
   "execution_count": null,
   "metadata": {},
   "outputs": [],
   "source": [
    "import random\n",
    "\n",
    "def random_side(k, forbidden=\"\", offset=0, exact={}):\n",
    "    possible_opchars = set(\"-+*/\") - set(forbidden)\n",
    "    new_lenght_possiblities = set(range(1,k-1)) - {_k-offset for _k in exact.keys()}\n",
    "    forcesplit = False\n",
    "    for _k in filter(lambda x:x>=offset and x<k-offset, exact.keys()):\n",
    "        if exact[_k] in set(\"-+*/\"):\n",
    "            forcesplit = True\n",
    "            new_lenght = _k - offset\n",
    "            possible_opchars = {exact[_k]}\n",
    "    if forcesplit or (len(new_lenght_possiblities)>0 and len(possible_opchars)>0 and random.randint(0,1)==0):\n",
    "        new_lenght = random.choice(list(new_lenght_possiblities)) if not forcesplit else new_lenght\n",
    "        return random_side(new_lenght, forbidden=forbidden, offset=offset, exact=exact) + random.choice(list(possible_opchars)) + random_side(k-new_lenght-1, forbidden=forbidden, offset=offset+new_lenght+1, exact=exact)\n",
    "    chars = random.choices(list(set(\"0123456789\") - set(forbidden)), k=k)\n",
    "    for ix in range(len(chars)):\n",
    "        if ix+offset in exact:\n",
    "            chars[ix] = exact[ix+offset]\n",
    "    return \"\".join(chars)\n",
    "\n",
    "def random_nerdle(k:int=8, forbidden:str=\"\", exact:dict={}):\n",
    "    ixpos = set(range(1,k-1))\n",
    "    for _k in filter(lambda x:exact.get(x) in set(\"*/+-\"), exact):\n",
    "        ixpos -= {_k-1, _k, _k+1}\n",
    "    ixeq = random.choice(list(ixpos))\n",
    "    for _k,v in exact.items():\n",
    "        if v==\"=\":\n",
    "            ixeq=_k\n",
    "    return random_side(k=ixeq, forbidden=forbidden, offset=0, exact=exact) + \"=\" + random_side(k=k-ixeq-1, forbidden=forbidden, offset=ixeq+1, exact=exact)"
   ]
  },
  {
   "cell_type": "code",
   "execution_count": null,
   "metadata": {},
   "outputs": [],
   "source": [
    "def valid_nerdle(k=8, forbidden=\"\", exact={}):\n",
    "    nerdle = random_nerdle(k=8, forbidden=forbidden, exact=exact)\n",
    "    while not check(nerdle):\n",
    "        nerdle = random_nerdle(k=8, forbidden=forbidden, exact=exact)\n",
    "    return nerdle"
   ]
  },
  {
   "cell_type": "code",
   "execution_count": null,
   "metadata": {},
   "outputs": [],
   "source": [
    "forbidden=\"\"\n",
    "exact={}\n",
    "\n",
    "sorted({valid_nerdle(k=8, forbidden=forbidden, exact=exact) for _ in range(10)}, key=lambda x:len(set(x)), reverse=True)"
   ]
  }
 ],
 "metadata": {
  "kernelspec": {
   "display_name": "Python 3",
   "language": "python",
   "name": "python3"
  },
  "language_info": {
   "codemirror_mode": {
    "name": "ipython",
    "version": 3
   },
   "file_extension": ".py",
   "mimetype": "text/x-python",
   "name": "python",
   "nbconvert_exporter": "python",
   "pygments_lexer": "ipython3",
   "version": "3.11.2"
  },
  "orig_nbformat": 4
 },
 "nbformat": 4,
 "nbformat_minor": 2
}
